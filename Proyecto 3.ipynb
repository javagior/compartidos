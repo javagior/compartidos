{
 "cells": [
  {
   "cell_type": "code",
   "execution_count": 1,
   "metadata": {},
   "outputs": [],
   "source": [
    "import gzip\n",
    "import pandas as pd\n",
    "import numpy as np\n",
    "import seaborn as sns\n",
    "import matplotlib.pyplot as plt\n",
    "from surprise import Reader\n",
    "from sklearn.preprocessing import StandardScaler\n",
    "from surprise import Dataset\n",
    "from surprise import accuracy\n",
    "from surprise import SVD, SVDpp, CoClustering, NormalPredictor, BaselineOnly\n",
    "from surprise.model_selection import cross_validate\n",
    "from surprise.model_selection import train_test_split"
   ]
  },
  {
   "cell_type": "markdown",
   "metadata": {},
   "source": [
    "El objetivo del proyecto es realizar un sistema de recomendación que permita sugerir juegos en la plataforma Steam."
   ]
  },
  {
   "cell_type": "markdown",
   "metadata": {},
   "source": [
    "# 0. Importación y preparación de datos"
   ]
  },
  {
   "cell_type": "markdown",
   "metadata": {},
   "source": [
    "Lo primero que se realiza es importar los dataset. Uno contiene los datos de la interacción de cada usuario con cierto juego mientras que el otro contiene datos de los juegos. \n",
    "\n",
    "**Dado el tamaño del dataset de reseñas solo se van a importar 1 de cada 10 filas**:"
   ]
  },
  {
   "cell_type": "code",
   "execution_count": 15,
   "metadata": {},
   "outputs": [],
   "source": [
    "def parse(path):\n",
    "    g = gzip.open(path, 'r')\n",
    "    for l in g:\n",
    "        yield eval(l)"
   ]
  },
  {
   "cell_type": "code",
   "execution_count": 16,
   "metadata": {},
   "outputs": [],
   "source": [
    "contador = 0\n",
    "data_reviews = []\n",
    "n = 10\n",
    "for l in parse('steam_reviews.json.gz'):\n",
    "    if contador%n == 0:\n",
    "        data_reviews.append(l)\n",
    "    else:\n",
    "        pass\n",
    "    contador += 1\n",
    "\n",
    "data_reviews = pd.DataFrame(data_reviews)"
   ]
  },
  {
   "cell_type": "code",
   "execution_count": 17,
   "metadata": {},
   "outputs": [],
   "source": [
    "data_games = []\n",
    "for l in parse('steam_games.json.gz'):\n",
    "    data_games.append(l)\n",
    "data_games = pd.DataFrame(data_games)"
   ]
  },
  {
   "cell_type": "code",
   "execution_count": 18,
   "metadata": {},
   "outputs": [
    {
     "data": {
      "text/html": [
       "<div>\n",
       "<style scoped>\n",
       "    .dataframe tbody tr th:only-of-type {\n",
       "        vertical-align: middle;\n",
       "    }\n",
       "\n",
       "    .dataframe tbody tr th {\n",
       "        vertical-align: top;\n",
       "    }\n",
       "\n",
       "    .dataframe thead th {\n",
       "        text-align: right;\n",
       "    }\n",
       "</style>\n",
       "<table border=\"1\" class=\"dataframe\">\n",
       "  <thead>\n",
       "    <tr style=\"text-align: right;\">\n",
       "      <th></th>\n",
       "      <th>username</th>\n",
       "      <th>hours</th>\n",
       "      <th>products</th>\n",
       "      <th>product_id</th>\n",
       "      <th>page_order</th>\n",
       "      <th>date</th>\n",
       "      <th>text</th>\n",
       "      <th>early_access</th>\n",
       "      <th>page</th>\n",
       "      <th>user_id</th>\n",
       "      <th>compensation</th>\n",
       "      <th>found_funny</th>\n",
       "    </tr>\n",
       "  </thead>\n",
       "  <tbody>\n",
       "    <tr>\n",
       "      <th>0</th>\n",
       "      <td>Chaos Syren</td>\n",
       "      <td>0.1</td>\n",
       "      <td>41.0</td>\n",
       "      <td>725280</td>\n",
       "      <td>0</td>\n",
       "      <td>2017-12-17</td>\n",
       "      <td>This would not be acceptable as an entertainme...</td>\n",
       "      <td>False</td>\n",
       "      <td>1</td>\n",
       "      <td>NaN</td>\n",
       "      <td>NaN</td>\n",
       "      <td>NaN</td>\n",
       "    </tr>\n",
       "    <tr>\n",
       "      <th>1</th>\n",
       "      <td>Ariman1</td>\n",
       "      <td>13.2</td>\n",
       "      <td>1386.0</td>\n",
       "      <td>328100</td>\n",
       "      <td>2</td>\n",
       "      <td>2017-08-02</td>\n",
       "      <td>Addictive RPG ! Works fine on linux though it ...</td>\n",
       "      <td>False</td>\n",
       "      <td>1</td>\n",
       "      <td>NaN</td>\n",
       "      <td>NaN</td>\n",
       "      <td>NaN</td>\n",
       "    </tr>\n",
       "    <tr>\n",
       "      <th>2</th>\n",
       "      <td>freakfantom</td>\n",
       "      <td>0.1</td>\n",
       "      <td>1706.0</td>\n",
       "      <td>725280</td>\n",
       "      <td>5</td>\n",
       "      <td>2017-11-12</td>\n",
       "      <td>Прикольная стрелялка. Взял дешево на распродаже.</td>\n",
       "      <td>False</td>\n",
       "      <td>1</td>\n",
       "      <td>NaN</td>\n",
       "      <td>NaN</td>\n",
       "      <td>NaN</td>\n",
       "    </tr>\n",
       "    <tr>\n",
       "      <th>3</th>\n",
       "      <td>The_Cpt_FROGGY</td>\n",
       "      <td>7.8</td>\n",
       "      <td>2217.0</td>\n",
       "      <td>631920</td>\n",
       "      <td>0</td>\n",
       "      <td>2017-12-11</td>\n",
       "      <td>Somewhere on Zibylon:\\n~~~~~~~~~~~~~~~~~~\\nZib...</td>\n",
       "      <td>False</td>\n",
       "      <td>1</td>\n",
       "      <td>76561198003030375</td>\n",
       "      <td>Product received for free</td>\n",
       "      <td>NaN</td>\n",
       "    </tr>\n",
       "    <tr>\n",
       "      <th>4</th>\n",
       "      <td>the_maker988</td>\n",
       "      <td>8.2</td>\n",
       "      <td>18.0</td>\n",
       "      <td>35140</td>\n",
       "      <td>7</td>\n",
       "      <td>2018-01-02</td>\n",
       "      <td>This game was way to linear for me, and compar...</td>\n",
       "      <td>False</td>\n",
       "      <td>1</td>\n",
       "      <td>76561198353396844</td>\n",
       "      <td>NaN</td>\n",
       "      <td>NaN</td>\n",
       "    </tr>\n",
       "  </tbody>\n",
       "</table>\n",
       "</div>"
      ],
      "text/plain": [
       "         username  hours  products product_id  page_order        date  \\\n",
       "0     Chaos Syren    0.1      41.0     725280           0  2017-12-17   \n",
       "1         Ariman1   13.2    1386.0     328100           2  2017-08-02   \n",
       "2     freakfantom    0.1    1706.0     725280           5  2017-11-12   \n",
       "3  The_Cpt_FROGGY    7.8    2217.0     631920           0  2017-12-11   \n",
       "4    the_maker988    8.2      18.0      35140           7  2018-01-02   \n",
       "\n",
       "                                                text  early_access  page  \\\n",
       "0  This would not be acceptable as an entertainme...         False     1   \n",
       "1  Addictive RPG ! Works fine on linux though it ...         False     1   \n",
       "2   Прикольная стрелялка. Взял дешево на распродаже.         False     1   \n",
       "3  Somewhere on Zibylon:\\n~~~~~~~~~~~~~~~~~~\\nZib...         False     1   \n",
       "4  This game was way to linear for me, and compar...         False     1   \n",
       "\n",
       "             user_id               compensation  found_funny  \n",
       "0                NaN                        NaN          NaN  \n",
       "1                NaN                        NaN          NaN  \n",
       "2                NaN                        NaN          NaN  \n",
       "3  76561198003030375  Product received for free          NaN  \n",
       "4  76561198353396844                        NaN          NaN  "
      ]
     },
     "execution_count": 18,
     "metadata": {},
     "output_type": "execute_result"
    }
   ],
   "source": [
    "data_reviews.head(5)"
   ]
  },
  {
   "cell_type": "code",
   "execution_count": 19,
   "metadata": {},
   "outputs": [
    {
     "data": {
      "text/html": [
       "<div>\n",
       "<style scoped>\n",
       "    .dataframe tbody tr th:only-of-type {\n",
       "        vertical-align: middle;\n",
       "    }\n",
       "\n",
       "    .dataframe tbody tr th {\n",
       "        vertical-align: top;\n",
       "    }\n",
       "\n",
       "    .dataframe thead th {\n",
       "        text-align: right;\n",
       "    }\n",
       "</style>\n",
       "<table border=\"1\" class=\"dataframe\">\n",
       "  <thead>\n",
       "    <tr style=\"text-align: right;\">\n",
       "      <th></th>\n",
       "      <th>publisher</th>\n",
       "      <th>genres</th>\n",
       "      <th>app_name</th>\n",
       "      <th>title</th>\n",
       "      <th>url</th>\n",
       "      <th>release_date</th>\n",
       "      <th>tags</th>\n",
       "      <th>discount_price</th>\n",
       "      <th>reviews_url</th>\n",
       "      <th>specs</th>\n",
       "      <th>price</th>\n",
       "      <th>early_access</th>\n",
       "      <th>id</th>\n",
       "      <th>developer</th>\n",
       "      <th>sentiment</th>\n",
       "      <th>metascore</th>\n",
       "    </tr>\n",
       "  </thead>\n",
       "  <tbody>\n",
       "    <tr>\n",
       "      <th>0</th>\n",
       "      <td>Kotoshiro</td>\n",
       "      <td>[Action, Casual, Indie, Simulation, Strategy]</td>\n",
       "      <td>Lost Summoner Kitty</td>\n",
       "      <td>Lost Summoner Kitty</td>\n",
       "      <td>http://store.steampowered.com/app/761140/Lost_...</td>\n",
       "      <td>2018-01-04</td>\n",
       "      <td>[Strategy, Action, Indie, Casual, Simulation]</td>\n",
       "      <td>4.49</td>\n",
       "      <td>http://steamcommunity.com/app/761140/reviews/?...</td>\n",
       "      <td>[Single-player]</td>\n",
       "      <td>4.99</td>\n",
       "      <td>False</td>\n",
       "      <td>761140</td>\n",
       "      <td>Kotoshiro</td>\n",
       "      <td>NaN</td>\n",
       "      <td>NaN</td>\n",
       "    </tr>\n",
       "    <tr>\n",
       "      <th>1</th>\n",
       "      <td>Making Fun, Inc.</td>\n",
       "      <td>[Free to Play, Indie, RPG, Strategy]</td>\n",
       "      <td>Ironbound</td>\n",
       "      <td>Ironbound</td>\n",
       "      <td>http://store.steampowered.com/app/643980/Ironb...</td>\n",
       "      <td>2018-01-04</td>\n",
       "      <td>[Free to Play, Strategy, Indie, RPG, Card Game...</td>\n",
       "      <td>NaN</td>\n",
       "      <td>http://steamcommunity.com/app/643980/reviews/?...</td>\n",
       "      <td>[Single-player, Multi-player, Online Multi-Pla...</td>\n",
       "      <td>Free To Play</td>\n",
       "      <td>False</td>\n",
       "      <td>643980</td>\n",
       "      <td>Secret Level SRL</td>\n",
       "      <td>Mostly Positive</td>\n",
       "      <td>NaN</td>\n",
       "    </tr>\n",
       "    <tr>\n",
       "      <th>2</th>\n",
       "      <td>Poolians.com</td>\n",
       "      <td>[Casual, Free to Play, Indie, Simulation, Sports]</td>\n",
       "      <td>Real Pool 3D - Poolians</td>\n",
       "      <td>Real Pool 3D - Poolians</td>\n",
       "      <td>http://store.steampowered.com/app/670290/Real_...</td>\n",
       "      <td>2017-07-24</td>\n",
       "      <td>[Free to Play, Simulation, Sports, Casual, Ind...</td>\n",
       "      <td>NaN</td>\n",
       "      <td>http://steamcommunity.com/app/670290/reviews/?...</td>\n",
       "      <td>[Single-player, Multi-player, Online Multi-Pla...</td>\n",
       "      <td>Free to Play</td>\n",
       "      <td>False</td>\n",
       "      <td>670290</td>\n",
       "      <td>Poolians.com</td>\n",
       "      <td>Mostly Positive</td>\n",
       "      <td>NaN</td>\n",
       "    </tr>\n",
       "    <tr>\n",
       "      <th>3</th>\n",
       "      <td>彼岸领域</td>\n",
       "      <td>[Action, Adventure, Casual]</td>\n",
       "      <td>弹炸人2222</td>\n",
       "      <td>弹炸人2222</td>\n",
       "      <td>http://store.steampowered.com/app/767400/2222/</td>\n",
       "      <td>2017-12-07</td>\n",
       "      <td>[Action, Adventure, Casual]</td>\n",
       "      <td>0.83</td>\n",
       "      <td>http://steamcommunity.com/app/767400/reviews/?...</td>\n",
       "      <td>[Single-player]</td>\n",
       "      <td>0.99</td>\n",
       "      <td>False</td>\n",
       "      <td>767400</td>\n",
       "      <td>彼岸领域</td>\n",
       "      <td>NaN</td>\n",
       "      <td>NaN</td>\n",
       "    </tr>\n",
       "    <tr>\n",
       "      <th>4</th>\n",
       "      <td>NaN</td>\n",
       "      <td>NaN</td>\n",
       "      <td>Log Challenge</td>\n",
       "      <td>NaN</td>\n",
       "      <td>http://store.steampowered.com/app/773570/Log_C...</td>\n",
       "      <td>NaN</td>\n",
       "      <td>[Action, Indie, Casual, Sports]</td>\n",
       "      <td>1.79</td>\n",
       "      <td>http://steamcommunity.com/app/773570/reviews/?...</td>\n",
       "      <td>[Single-player, Full controller support, HTC V...</td>\n",
       "      <td>2.99</td>\n",
       "      <td>False</td>\n",
       "      <td>773570</td>\n",
       "      <td>NaN</td>\n",
       "      <td>NaN</td>\n",
       "      <td>NaN</td>\n",
       "    </tr>\n",
       "  </tbody>\n",
       "</table>\n",
       "</div>"
      ],
      "text/plain": [
       "          publisher                                             genres  \\\n",
       "0         Kotoshiro      [Action, Casual, Indie, Simulation, Strategy]   \n",
       "1  Making Fun, Inc.               [Free to Play, Indie, RPG, Strategy]   \n",
       "2      Poolians.com  [Casual, Free to Play, Indie, Simulation, Sports]   \n",
       "3              彼岸领域                        [Action, Adventure, Casual]   \n",
       "4               NaN                                                NaN   \n",
       "\n",
       "                  app_name                    title  \\\n",
       "0      Lost Summoner Kitty      Lost Summoner Kitty   \n",
       "1                Ironbound                Ironbound   \n",
       "2  Real Pool 3D - Poolians  Real Pool 3D - Poolians   \n",
       "3                  弹炸人2222                  弹炸人2222   \n",
       "4            Log Challenge                      NaN   \n",
       "\n",
       "                                                 url release_date  \\\n",
       "0  http://store.steampowered.com/app/761140/Lost_...   2018-01-04   \n",
       "1  http://store.steampowered.com/app/643980/Ironb...   2018-01-04   \n",
       "2  http://store.steampowered.com/app/670290/Real_...   2017-07-24   \n",
       "3     http://store.steampowered.com/app/767400/2222/   2017-12-07   \n",
       "4  http://store.steampowered.com/app/773570/Log_C...          NaN   \n",
       "\n",
       "                                                tags  discount_price  \\\n",
       "0      [Strategy, Action, Indie, Casual, Simulation]            4.49   \n",
       "1  [Free to Play, Strategy, Indie, RPG, Card Game...             NaN   \n",
       "2  [Free to Play, Simulation, Sports, Casual, Ind...             NaN   \n",
       "3                        [Action, Adventure, Casual]            0.83   \n",
       "4                    [Action, Indie, Casual, Sports]            1.79   \n",
       "\n",
       "                                         reviews_url  \\\n",
       "0  http://steamcommunity.com/app/761140/reviews/?...   \n",
       "1  http://steamcommunity.com/app/643980/reviews/?...   \n",
       "2  http://steamcommunity.com/app/670290/reviews/?...   \n",
       "3  http://steamcommunity.com/app/767400/reviews/?...   \n",
       "4  http://steamcommunity.com/app/773570/reviews/?...   \n",
       "\n",
       "                                               specs         price  \\\n",
       "0                                    [Single-player]          4.99   \n",
       "1  [Single-player, Multi-player, Online Multi-Pla...  Free To Play   \n",
       "2  [Single-player, Multi-player, Online Multi-Pla...  Free to Play   \n",
       "3                                    [Single-player]          0.99   \n",
       "4  [Single-player, Full controller support, HTC V...          2.99   \n",
       "\n",
       "   early_access      id         developer        sentiment metascore  \n",
       "0         False  761140         Kotoshiro              NaN       NaN  \n",
       "1         False  643980  Secret Level SRL  Mostly Positive       NaN  \n",
       "2         False  670290      Poolians.com  Mostly Positive       NaN  \n",
       "3         False  767400              彼岸领域              NaN       NaN  \n",
       "4         False  773570               NaN              NaN       NaN  "
      ]
     },
     "execution_count": 19,
     "metadata": {},
     "output_type": "execute_result"
    }
   ],
   "source": [
    "data_games.head(5)"
   ]
  },
  {
   "cell_type": "markdown",
   "metadata": {},
   "source": [
    "Se procede a unir los dos datasets en uno solo con toda la información. El proceso de unión es realizado a través de la columna product id del dataset de reseñas y la columna id del dataset de juegos."
   ]
  },
  {
   "cell_type": "code",
   "execution_count": 20,
   "metadata": {},
   "outputs": [],
   "source": [
    "data = pd.merge(left=data_reviews, right=data_games, left_on='product_id', right_on='id')"
   ]
  },
  {
   "cell_type": "code",
   "execution_count": 21,
   "metadata": {},
   "outputs": [
    {
     "data": {
      "text/html": [
       "<div>\n",
       "<style scoped>\n",
       "    .dataframe tbody tr th:only-of-type {\n",
       "        vertical-align: middle;\n",
       "    }\n",
       "\n",
       "    .dataframe tbody tr th {\n",
       "        vertical-align: top;\n",
       "    }\n",
       "\n",
       "    .dataframe thead th {\n",
       "        text-align: right;\n",
       "    }\n",
       "</style>\n",
       "<table border=\"1\" class=\"dataframe\">\n",
       "  <thead>\n",
       "    <tr style=\"text-align: right;\">\n",
       "      <th></th>\n",
       "      <th>username</th>\n",
       "      <th>hours</th>\n",
       "      <th>products</th>\n",
       "      <th>product_id</th>\n",
       "      <th>page_order</th>\n",
       "      <th>date</th>\n",
       "      <th>text</th>\n",
       "      <th>early_access_x</th>\n",
       "      <th>page</th>\n",
       "      <th>user_id</th>\n",
       "      <th>...</th>\n",
       "      <th>tags</th>\n",
       "      <th>discount_price</th>\n",
       "      <th>reviews_url</th>\n",
       "      <th>specs</th>\n",
       "      <th>price</th>\n",
       "      <th>early_access_y</th>\n",
       "      <th>id</th>\n",
       "      <th>developer</th>\n",
       "      <th>sentiment</th>\n",
       "      <th>metascore</th>\n",
       "    </tr>\n",
       "  </thead>\n",
       "  <tbody>\n",
       "    <tr>\n",
       "      <th>0</th>\n",
       "      <td>Chaos Syren</td>\n",
       "      <td>0.1</td>\n",
       "      <td>41.0</td>\n",
       "      <td>725280</td>\n",
       "      <td>0</td>\n",
       "      <td>2017-12-17</td>\n",
       "      <td>This would not be acceptable as an entertainme...</td>\n",
       "      <td>False</td>\n",
       "      <td>1</td>\n",
       "      <td>NaN</td>\n",
       "      <td>...</td>\n",
       "      <td>[Action, Adventure, Indie, Simulation]</td>\n",
       "      <td>NaN</td>\n",
       "      <td>http://steamcommunity.com/app/725280/reviews/?...</td>\n",
       "      <td>[Single-player, Steam Trading Cards]</td>\n",
       "      <td>2.99</td>\n",
       "      <td>False</td>\n",
       "      <td>725280</td>\n",
       "      <td>Vyacheslav Shilikhin</td>\n",
       "      <td>Positive</td>\n",
       "      <td>NaN</td>\n",
       "    </tr>\n",
       "    <tr>\n",
       "      <th>1</th>\n",
       "      <td>freakfantom</td>\n",
       "      <td>0.1</td>\n",
       "      <td>1706.0</td>\n",
       "      <td>725280</td>\n",
       "      <td>5</td>\n",
       "      <td>2017-11-12</td>\n",
       "      <td>Прикольная стрелялка. Взял дешево на распродаже.</td>\n",
       "      <td>False</td>\n",
       "      <td>1</td>\n",
       "      <td>NaN</td>\n",
       "      <td>...</td>\n",
       "      <td>[Action, Adventure, Indie, Simulation]</td>\n",
       "      <td>NaN</td>\n",
       "      <td>http://steamcommunity.com/app/725280/reviews/?...</td>\n",
       "      <td>[Single-player, Steam Trading Cards]</td>\n",
       "      <td>2.99</td>\n",
       "      <td>False</td>\n",
       "      <td>725280</td>\n",
       "      <td>Vyacheslav Shilikhin</td>\n",
       "      <td>Positive</td>\n",
       "      <td>NaN</td>\n",
       "    </tr>\n",
       "    <tr>\n",
       "      <th>2</th>\n",
       "      <td>Ariman1</td>\n",
       "      <td>13.2</td>\n",
       "      <td>1386.0</td>\n",
       "      <td>328100</td>\n",
       "      <td>2</td>\n",
       "      <td>2017-08-02</td>\n",
       "      <td>Addictive RPG ! Works fine on linux though it ...</td>\n",
       "      <td>False</td>\n",
       "      <td>1</td>\n",
       "      <td>NaN</td>\n",
       "      <td>...</td>\n",
       "      <td>[Adventure, RPG, Indie, Puzzle, Match 3]</td>\n",
       "      <td>NaN</td>\n",
       "      <td>http://steamcommunity.com/app/328100/reviews/?...</td>\n",
       "      <td>[Single-player]</td>\n",
       "      <td>14.99</td>\n",
       "      <td>False</td>\n",
       "      <td>328100</td>\n",
       "      <td>Ino-Co Plus</td>\n",
       "      <td>Mixed</td>\n",
       "      <td>NaN</td>\n",
       "    </tr>\n",
       "    <tr>\n",
       "      <th>3</th>\n",
       "      <td>dll3z</td>\n",
       "      <td>0.4</td>\n",
       "      <td>314.0</td>\n",
       "      <td>328100</td>\n",
       "      <td>5</td>\n",
       "      <td>2017-03-07</td>\n",
       "      <td>do not buy this game</td>\n",
       "      <td>False</td>\n",
       "      <td>2</td>\n",
       "      <td>NaN</td>\n",
       "      <td>...</td>\n",
       "      <td>[Adventure, RPG, Indie, Puzzle, Match 3]</td>\n",
       "      <td>NaN</td>\n",
       "      <td>http://steamcommunity.com/app/328100/reviews/?...</td>\n",
       "      <td>[Single-player]</td>\n",
       "      <td>14.99</td>\n",
       "      <td>False</td>\n",
       "      <td>328100</td>\n",
       "      <td>Ino-Co Plus</td>\n",
       "      <td>Mixed</td>\n",
       "      <td>NaN</td>\n",
       "    </tr>\n",
       "    <tr>\n",
       "      <th>4</th>\n",
       "      <td>Nyazicat</td>\n",
       "      <td>2.2</td>\n",
       "      <td>1224.0</td>\n",
       "      <td>328100</td>\n",
       "      <td>1</td>\n",
       "      <td>2017-01-09</td>\n",
       "      <td>For some reason I entirely derped out and boug...</td>\n",
       "      <td>False</td>\n",
       "      <td>3</td>\n",
       "      <td>NaN</td>\n",
       "      <td>...</td>\n",
       "      <td>[Adventure, RPG, Indie, Puzzle, Match 3]</td>\n",
       "      <td>NaN</td>\n",
       "      <td>http://steamcommunity.com/app/328100/reviews/?...</td>\n",
       "      <td>[Single-player]</td>\n",
       "      <td>14.99</td>\n",
       "      <td>False</td>\n",
       "      <td>328100</td>\n",
       "      <td>Ino-Co Plus</td>\n",
       "      <td>Mixed</td>\n",
       "      <td>NaN</td>\n",
       "    </tr>\n",
       "  </tbody>\n",
       "</table>\n",
       "<p>5 rows × 28 columns</p>\n",
       "</div>"
      ],
      "text/plain": [
       "      username  hours  products product_id  page_order        date  \\\n",
       "0  Chaos Syren    0.1      41.0     725280           0  2017-12-17   \n",
       "1  freakfantom    0.1    1706.0     725280           5  2017-11-12   \n",
       "2      Ariman1   13.2    1386.0     328100           2  2017-08-02   \n",
       "3        dll3z    0.4     314.0     328100           5  2017-03-07   \n",
       "4     Nyazicat    2.2    1224.0     328100           1  2017-01-09   \n",
       "\n",
       "                                                text  early_access_x  page  \\\n",
       "0  This would not be acceptable as an entertainme...           False     1   \n",
       "1   Прикольная стрелялка. Взял дешево на распродаже.           False     1   \n",
       "2  Addictive RPG ! Works fine on linux though it ...           False     1   \n",
       "3                               do not buy this game           False     2   \n",
       "4  For some reason I entirely derped out and boug...           False     3   \n",
       "\n",
       "  user_id  ...                                      tags  discount_price  \\\n",
       "0     NaN  ...    [Action, Adventure, Indie, Simulation]             NaN   \n",
       "1     NaN  ...    [Action, Adventure, Indie, Simulation]             NaN   \n",
       "2     NaN  ...  [Adventure, RPG, Indie, Puzzle, Match 3]             NaN   \n",
       "3     NaN  ...  [Adventure, RPG, Indie, Puzzle, Match 3]             NaN   \n",
       "4     NaN  ...  [Adventure, RPG, Indie, Puzzle, Match 3]             NaN   \n",
       "\n",
       "                                         reviews_url  \\\n",
       "0  http://steamcommunity.com/app/725280/reviews/?...   \n",
       "1  http://steamcommunity.com/app/725280/reviews/?...   \n",
       "2  http://steamcommunity.com/app/328100/reviews/?...   \n",
       "3  http://steamcommunity.com/app/328100/reviews/?...   \n",
       "4  http://steamcommunity.com/app/328100/reviews/?...   \n",
       "\n",
       "                                  specs  price early_access_y      id  \\\n",
       "0  [Single-player, Steam Trading Cards]   2.99          False  725280   \n",
       "1  [Single-player, Steam Trading Cards]   2.99          False  725280   \n",
       "2                       [Single-player]  14.99          False  328100   \n",
       "3                       [Single-player]  14.99          False  328100   \n",
       "4                       [Single-player]  14.99          False  328100   \n",
       "\n",
       "              developer sentiment  metascore  \n",
       "0  Vyacheslav Shilikhin  Positive        NaN  \n",
       "1  Vyacheslav Shilikhin  Positive        NaN  \n",
       "2           Ino-Co Plus     Mixed        NaN  \n",
       "3           Ino-Co Plus     Mixed        NaN  \n",
       "4           Ino-Co Plus     Mixed        NaN  \n",
       "\n",
       "[5 rows x 28 columns]"
      ]
     },
     "execution_count": 21,
     "metadata": {},
     "output_type": "execute_result"
    }
   ],
   "source": [
    "data.head(5)"
   ]
  },
  {
   "cell_type": "markdown",
   "metadata": {},
   "source": [
    "# 1. Analísis Exploratorio de Datos"
   ]
  },
  {
   "cell_type": "markdown",
   "metadata": {},
   "source": [
    "El tamaño del dataset es el siguiente:"
   ]
  },
  {
   "cell_type": "code",
   "execution_count": 30,
   "metadata": {},
   "outputs": [
    {
     "data": {
      "text/plain": [
       "(779951, 7)"
      ]
     },
     "execution_count": 30,
     "metadata": {},
     "output_type": "execute_result"
    }
   ],
   "source": [
    "data.shape"
   ]
  },
  {
   "cell_type": "markdown",
   "metadata": {},
   "source": [
    "Es decir que **el dataset tiene 779.951 filas (o \"reseñas\") y 28 columnas**, siendo las columnas las siguientes:"
   ]
  },
  {
   "cell_type": "code",
   "execution_count": 31,
   "metadata": {},
   "outputs": [
    {
     "data": {
      "text/plain": [
       "array(['username', 'app_name', 'hours', 'price', 'publisher', 'developer',\n",
       "       'genres'], dtype=object)"
      ]
     },
     "execution_count": 31,
     "metadata": {},
     "output_type": "execute_result"
    }
   ],
   "source": [
    "data.columns.values"
   ]
  },
  {
   "cell_type": "markdown",
   "metadata": {},
   "source": [
    "Lo primero que se va a realizar es eliminar las columnas dado que permite hacer el dataset más manejable eliminando información que no resulta relevante. Las columnas que se van a seleccionando del dataset son las siguientes:\n",
    "1. **Username**: para identificar cada usuario.\n",
    "2. **Hours**: informa la cantidad de horas que cada usuario jugó el juego.\n",
    "3. **Publisher**: la compañía que comercializó el juego.\n",
    "4. **Genres**: los géneros que aplican a cada juego.\n",
    "5. **Price**: el precio del juego.\n",
    "6. **Developer**: desarrollador del juego (puede ser distinto al que lo comercializa).\n",
    "7. **app_name**: Nombre del juego.\n",
    "\n",
    "El dataset es el siguiente (con las mismas filas que el anterior pero solo 7 columnas):"
   ]
  },
  {
   "cell_type": "code",
   "execution_count": 24,
   "metadata": {},
   "outputs": [
    {
     "data": {
      "text/html": [
       "<div>\n",
       "<style scoped>\n",
       "    .dataframe tbody tr th:only-of-type {\n",
       "        vertical-align: middle;\n",
       "    }\n",
       "\n",
       "    .dataframe tbody tr th {\n",
       "        vertical-align: top;\n",
       "    }\n",
       "\n",
       "    .dataframe thead th {\n",
       "        text-align: right;\n",
       "    }\n",
       "</style>\n",
       "<table border=\"1\" class=\"dataframe\">\n",
       "  <thead>\n",
       "    <tr style=\"text-align: right;\">\n",
       "      <th></th>\n",
       "      <th>username</th>\n",
       "      <th>app_name</th>\n",
       "      <th>hours</th>\n",
       "      <th>price</th>\n",
       "      <th>publisher</th>\n",
       "      <th>developer</th>\n",
       "      <th>genres</th>\n",
       "    </tr>\n",
       "  </thead>\n",
       "  <tbody>\n",
       "    <tr>\n",
       "      <th>0</th>\n",
       "      <td>Chaos Syren</td>\n",
       "      <td>Psi Project</td>\n",
       "      <td>0.1</td>\n",
       "      <td>2.99</td>\n",
       "      <td>Vyacheslav Shilikhin</td>\n",
       "      <td>Vyacheslav Shilikhin</td>\n",
       "      <td>[Action, Adventure, Indie, Simulation]</td>\n",
       "    </tr>\n",
       "    <tr>\n",
       "      <th>1</th>\n",
       "      <td>freakfantom</td>\n",
       "      <td>Psi Project</td>\n",
       "      <td>0.1</td>\n",
       "      <td>2.99</td>\n",
       "      <td>Vyacheslav Shilikhin</td>\n",
       "      <td>Vyacheslav Shilikhin</td>\n",
       "      <td>[Action, Adventure, Indie, Simulation]</td>\n",
       "    </tr>\n",
       "    <tr>\n",
       "      <th>2</th>\n",
       "      <td>Ariman1</td>\n",
       "      <td>Gunspell - Steam Edition</td>\n",
       "      <td>13.2</td>\n",
       "      <td>14.99</td>\n",
       "      <td>KISS ltd</td>\n",
       "      <td>Ino-Co Plus</td>\n",
       "      <td>[Adventure, Indie, RPG]</td>\n",
       "    </tr>\n",
       "    <tr>\n",
       "      <th>3</th>\n",
       "      <td>dll3z</td>\n",
       "      <td>Gunspell - Steam Edition</td>\n",
       "      <td>0.4</td>\n",
       "      <td>14.99</td>\n",
       "      <td>KISS ltd</td>\n",
       "      <td>Ino-Co Plus</td>\n",
       "      <td>[Adventure, Indie, RPG]</td>\n",
       "    </tr>\n",
       "    <tr>\n",
       "      <th>4</th>\n",
       "      <td>Nyazicat</td>\n",
       "      <td>Gunspell - Steam Edition</td>\n",
       "      <td>2.2</td>\n",
       "      <td>14.99</td>\n",
       "      <td>KISS ltd</td>\n",
       "      <td>Ino-Co Plus</td>\n",
       "      <td>[Adventure, Indie, RPG]</td>\n",
       "    </tr>\n",
       "  </tbody>\n",
       "</table>\n",
       "</div>"
      ],
      "text/plain": [
       "      username                  app_name  hours  price             publisher  \\\n",
       "0  Chaos Syren               Psi Project    0.1   2.99  Vyacheslav Shilikhin   \n",
       "1  freakfantom               Psi Project    0.1   2.99  Vyacheslav Shilikhin   \n",
       "2      Ariman1  Gunspell - Steam Edition   13.2  14.99              KISS ltd   \n",
       "3        dll3z  Gunspell - Steam Edition    0.4  14.99              KISS ltd   \n",
       "4     Nyazicat  Gunspell - Steam Edition    2.2  14.99              KISS ltd   \n",
       "\n",
       "              developer                                  genres  \n",
       "0  Vyacheslav Shilikhin  [Action, Adventure, Indie, Simulation]  \n",
       "1  Vyacheslav Shilikhin  [Action, Adventure, Indie, Simulation]  \n",
       "2           Ino-Co Plus                 [Adventure, Indie, RPG]  \n",
       "3           Ino-Co Plus                 [Adventure, Indie, RPG]  \n",
       "4           Ino-Co Plus                 [Adventure, Indie, RPG]  "
      ]
     },
     "execution_count": 24,
     "metadata": {},
     "output_type": "execute_result"
    }
   ],
   "source": [
    "data = data[[\"username\", \"app_name\", \"hours\", \"price\", \"publisher\", \"developer\", \"genres\"]]\n",
    "data.head(5)"
   ]
  },
  {
   "cell_type": "markdown",
   "metadata": {},
   "source": [
    "Para facilitar el proceso se va a guardar una versión del dataset para luego importarla y trabajar sobre la misma."
   ]
  },
  {
   "cell_type": "code",
   "execution_count": null,
   "metadata": {},
   "outputs": [],
   "source": [
    "data.to_csv (\"data_steam.csv\", index = False)"
   ]
  },
  {
   "cell_type": "code",
   "execution_count": 2,
   "metadata": {},
   "outputs": [],
   "source": [
    "data = pd.read_csv(\"data_steam.csv\")"
   ]
  },
  {
   "cell_type": "markdown",
   "metadata": {},
   "source": [
    "Los tipos de variables son los siguientes:"
   ]
  },
  {
   "cell_type": "code",
   "execution_count": 3,
   "metadata": {},
   "outputs": [
    {
     "data": {
      "text/plain": [
       "username      object\n",
       "app_name      object\n",
       "hours        float64\n",
       "price         object\n",
       "publisher     object\n",
       "developer     object\n",
       "genres        object\n",
       "dtype: object"
      ]
     },
     "execution_count": 3,
     "metadata": {},
     "output_type": "execute_result"
    }
   ],
   "source": [
    "data.dtypes"
   ]
  },
  {
   "cell_type": "markdown",
   "metadata": {},
   "source": [
    "La **variable precio asume un valor de objeto cuando se requiere que la misma sea float**. Antes de realizar el cambio de tipo se analiza cuales son los valores que asume la variable precio:"
   ]
  },
  {
   "cell_type": "code",
   "execution_count": 4,
   "metadata": {},
   "outputs": [
    {
     "data": {
      "text/plain": [
       "['2.99',\n",
       " '14.99',\n",
       " '9.99',\n",
       " '19.99',\n",
       " '4.99',\n",
       " nan,\n",
       " '0.99',\n",
       " '5.99',\n",
       " '11.99',\n",
       " '7.99',\n",
       " '3.99',\n",
       " 'Free to Play',\n",
       " '29.99',\n",
       " '1.99',\n",
       " '18.99',\n",
       " '8.99',\n",
       " '39.99',\n",
       " '13.99',\n",
       " '6.99',\n",
       " 'Free To Play',\n",
       " 'Free',\n",
       " '20.0',\n",
       " '59.99',\n",
       " '12.99',\n",
       " '15.99',\n",
       " '24.99',\n",
       " 'Play for Free!',\n",
       " '1.87',\n",
       " '16.99',\n",
       " '49.99',\n",
       " '17.99',\n",
       " '44.99',\n",
       " '10.99',\n",
       " '5.65',\n",
       " '99.99',\n",
       " '34.99',\n",
       " '64.99',\n",
       " '0.5',\n",
       " '0.89',\n",
       " '119.99',\n",
       " '0.49',\n",
       " '10.96',\n",
       " '1.29',\n",
       " '79.99',\n",
       " '189.96',\n",
       " '74.99',\n",
       " '15.0',\n",
       " '2.97',\n",
       " '4.0',\n",
       " '11.15',\n",
       " 'Play WARMACHINE: Tactics Demo',\n",
       " '4.68',\n",
       " '12.89',\n",
       " 'Play the Demo',\n",
       " '54.99',\n",
       " '31.99',\n",
       " 'Free Mod',\n",
       " '49.0',\n",
       " '13.98',\n",
       " '44.98',\n",
       " '74.76',\n",
       " '32.99',\n",
       " '4.49',\n",
       " '189.0',\n",
       " '0.98',\n",
       " '202.76',\n",
       " '61.99',\n",
       " '13.37',\n",
       " '3.0',\n",
       " '69.99',\n",
       " 'Free to Use',\n",
       " '1.59',\n",
       " '87.94',\n",
       " '149.99',\n",
       " 'Install Now',\n",
       " '7.49',\n",
       " '16.06',\n",
       " '3.49',\n",
       " '19.98',\n",
       " 'Free to Try',\n",
       " '3.33',\n",
       " '23.96',\n",
       " '21.99',\n",
       " '399.99',\n",
       " '6.66',\n",
       " '1.95',\n",
       " '19.95',\n",
       " 'Starting at $449.00',\n",
       " '2.49',\n",
       " '139.92',\n",
       " '199.0',\n",
       " '23.99',\n",
       " '12.0',\n",
       " '1.0',\n",
       " '9.95',\n",
       " 'Third-party',\n",
       " '2.0',\n",
       " '160.91',\n",
       " '20.99',\n",
       " '10.0',\n",
       " '299.99',\n",
       " '26.99',\n",
       " '1.5',\n",
       " 'Free Movie',\n",
       " '399.0',\n",
       " '14.95',\n",
       " '29.96',\n",
       " '771.71',\n",
       " '59.95',\n",
       " '2.3',\n",
       " 'Free HITMAN™ Holiday Pack',\n",
       " '6.48']"
      ]
     },
     "execution_count": 4,
     "metadata": {},
     "output_type": "execute_result"
    }
   ],
   "source": [
    "data[\"price\"].unique().tolist()"
   ]
  },
  {
   "cell_type": "markdown",
   "metadata": {},
   "source": [
    "Hay varios valores en la lista que son equivalentes a un precio de 0 motivo por el cual se realiza el cambio de un string al valor 0:"
   ]
  },
  {
   "cell_type": "code",
   "execution_count": 5,
   "metadata": {},
   "outputs": [],
   "source": [
    "lista = ['Free to Play', 'Free To Play', 'Play for Free!', 'Play WARMACHINE: Tactics Demo', \"Free\",\n",
    "         'Play the Demo', 'Free Mod', 'Free to Use', 'Install Now', 'Free to Try', 'Third-party',\n",
    "        'Free Movie', 'Free HITMAN™ Holiday Pack']\n",
    "data[\"price\"] = data[\"price\"].replace(lista, 0)\n",
    "data[\"price\"] = data[\"price\"].replace([\"Starting at $449.00\"], 499)"
   ]
  },
  {
   "cell_type": "markdown",
   "metadata": {},
   "source": [
    "Posteriormente se realiza el cambio del tipo de variable:"
   ]
  },
  {
   "cell_type": "code",
   "execution_count": 6,
   "metadata": {},
   "outputs": [],
   "source": [
    "data[\"price\"] = pd.to_numeric(data[\"price\"])"
   ]
  },
  {
   "cell_type": "markdown",
   "metadata": {},
   "source": [
    "Los valores faltantes en cada columna son los siguientes:"
   ]
  },
  {
   "cell_type": "code",
   "execution_count": 7,
   "metadata": {},
   "outputs": [
    {
     "name": "stdout",
     "output_type": "stream",
     "text": [
      "username       18\n",
      "app_name        0\n",
      "hours        2637\n",
      "price        6673\n",
      "publisher    9656\n",
      "developer    5788\n",
      "genres       4023\n",
      "dtype: int64\n"
     ]
    }
   ],
   "source": [
    "print(data.isnull().sum())"
   ]
  },
  {
   "cell_type": "markdown",
   "metadata": {},
   "source": [
    "Es decir que los valores faltantes son escasos dada la cantidad de reseñas que contiene el dataset motivo por el cual se determina eliminar estas filas."
   ]
  },
  {
   "cell_type": "code",
   "execution_count": 8,
   "metadata": {},
   "outputs": [
    {
     "data": {
      "text/plain": [
       "(760492, 7)"
      ]
     },
     "execution_count": 8,
     "metadata": {},
     "output_type": "execute_result"
    }
   ],
   "source": [
    "data = data.dropna()\n",
    "data.shape"
   ]
  },
  {
   "cell_type": "markdown",
   "metadata": {},
   "source": [
    "**Luego de eliminar las filas con valores faltantes se tiene un dataset con 760.492 filas.**"
   ]
  },
  {
   "cell_type": "markdown",
   "metadata": {},
   "source": [
    "Los 20 juegos más populares en términos de reseñas fueron los siguientes:"
   ]
  },
  {
   "cell_type": "code",
   "execution_count": 12,
   "metadata": {},
   "outputs": [
    {
     "data": {
      "image/png": "[encoded data removed]",
      "text/plain": [
       "<Figure size 864x576 with 1 Axes>"
      ]
     },
     "metadata": {
      "needs_background": "light"
     },
     "output_type": "display_data"
    }
   ],
   "source": [
    "plt.figure(figsize=(12,8))\n",
    "grafico1 = sns.countplot(x = \"app_name\", data = data, order = data[\"app_name\"].value_counts().iloc[:20].index)\n",
    "plt.title(\"Cantidad de reseñas por juego\", fontsize=18)\n",
    "plt.xticks(rotation=70)\n",
    "plt.xlabel(\"\")\n",
    "plt.ylabel(\"\")\n",
    "\n",
    "conteo = list(data.app_name.value_counts())\n",
    "for rect, label in zip(grafico1.patches, conteo):\n",
    "    height = rect.get_height()\n",
    "    grafico1.text(rect.get_x() + rect.get_width() / 2, height + 5, label, ha='center', va='bottom')\n",
    "\n",
    "plt.show()"
   ]
  },
  {
   "cell_type": "markdown",
   "metadata": {},
   "source": [
    "De acuerdo al gráfico anterior **el juego más popular es Team Fortress 2, superando ampliamente a Rust y Borderlands 2**.\n",
    "\n",
    "Respecto a las compañías comercializadoras, las más exitosas (en términos de reseñas) son las siguientes:"
   ]
  },
  {
   "cell_type": "code",
   "execution_count": 13,
   "metadata": {},
   "outputs": [
    {
     "data": {
      "image/png": "[encoded data removed]",
      "text/plain": [
       "<Figure size 864x576 with 1 Axes>"
      ]
     },
     "metadata": {
      "needs_background": "light"
     },
     "output_type": "display_data"
    }
   ],
   "source": [
    "plt.figure(figsize=(12,8))\n",
    "grafico1 = sns.countplot(x = \"publisher\", data = data, order = data[\"publisher\"].value_counts().iloc[:10].index)\n",
    "plt.title(\"Cantidad de reseñas por compañia publicadora\", fontsize=18)\n",
    "plt.xticks(rotation=45)\n",
    "plt.xlabel(\"\")\n",
    "plt.ylabel(\"\")\n",
    "\n",
    "conteo = list(data.publisher.value_counts())\n",
    "for rect, label in zip(grafico1.patches, conteo):\n",
    "    height = rect.get_height()\n",
    "    grafico1.text(rect.get_x() + rect.get_width() / 2, height + 5, label, ha='center', va='bottom')\n",
    "\n",
    "plt.show()"
   ]
  },
  {
   "cell_type": "markdown",
   "metadata": {},
   "source": [
    "**Valve es la compañía con mayor cantidad de reseñas** lo que no debería sorpender dado que Steam pertenece a Valve y que varios de los juegos que figuran entre los más populares son comercializados (algunos de ellos desarrollados) por esta firma entre ellos Team Fortress 2 y Portal 2. Ubisoft y Bethesda completan el podio.\n",
    "\n",
    "Mientras que los desarrolladores más populares son los siguientes:"
   ]
  },
  {
   "cell_type": "code",
   "execution_count": 14,
   "metadata": {},
   "outputs": [
    {
     "data": {
      "image/png": "[encoded data removed]",
      "text/plain": [
       "<Figure size 864x576 with 1 Axes>"
      ]
     },
     "metadata": {
      "needs_background": "light"
     },
     "output_type": "display_data"
    }
   ],
   "source": [
    "plt.figure(figsize=(12,8))\n",
    "grafico1 = sns.countplot(x = \"developer\", data = data, order = data[\"developer\"].value_counts().iloc[:10].index)\n",
    "plt.title(\"Cantidad de reseñas por desarrollador\", fontsize=18)\n",
    "plt.xticks(rotation=45)\n",
    "plt.xlabel(\"\")\n",
    "plt.ylabel(\"\")\n",
    "\n",
    "conteo = list(data.developer.value_counts())\n",
    "for rect, label in zip(grafico1.patches, conteo):\n",
    "    height = rect.get_height()\n",
    "    grafico1.text(rect.get_x() + rect.get_width() / 2, height + 5, label, ha='center', va='bottom')\n",
    "\n",
    "plt.show()"
   ]
  },
  {
   "cell_type": "markdown",
   "metadata": {},
   "source": [
    "Nuevamente **Valve lidera en cantidad de reseñas pero en este caso como desarrollador**.\n",
    "\n",
    "La distribucion de reseñas de acuerdo al género del juego es la siguiente:"
   ]
  },
  {
   "cell_type": "code",
   "execution_count": 15,
   "metadata": {},
   "outputs": [],
   "source": [
    "data[\"genres\"] = data[\"genres\"].str.replace(\"]\", \"\")\n",
    "data[\"genres\"] = data[\"genres\"].str.replace(\"[\", \"\")\n",
    "data[\"genres\"] = data[\"genres\"].str.replace(\"'\", \"\")\n",
    "dummies = data[\"genres\"].str.get_dummies(sep=\",\")\n",
    "data = pd.concat([data, dummies], axis=1)\n",
    "data = data.drop([\"genres\"], axis=1)"
   ]
  },
  {
   "cell_type": "code",
   "execution_count": 16,
   "metadata": {},
   "outputs": [],
   "source": [
    "data[\"Action\"]=data[\"Action\"]+data[\" Action\"]\n",
    "data = data.drop([\" Action\"], axis=1)\n",
    "\n",
    "data[\"Adventure\"]=data[\"Adventure\"]+data[\" Adventure\"]\n",
    "data = data.drop([\" Adventure\"], axis=1)\n",
    "\n",
    "data[\"Audio Production\"]=data[\" Audio Production\"]\n",
    "data = data.drop([\" Audio Production\"], axis=1)\n",
    "\n",
    "data[\"Casual\"]=data[\"Casual\"]+data[\" Casual\"]\n",
    "data = data.drop([\" Casual\"], axis=1)\n",
    "\n",
    "data[\"Design &amp; Illustration\"]=data[\"Design &amp; Illustration\"]+data[\" Design &amp; Illustration\"]\n",
    "data = data.drop([\" Design &amp; Illustration\"], axis=1)\n",
    "\n",
    "data[\"Early Access\"]=data[\"Early Access\"]+data[\" Early Access\"]\n",
    "data = data.drop([\" Early Access\"], axis=1)\n",
    "\n",
    "data[\"Education\"]=data[\"Education\"]+data[\" Education\"]\n",
    "data = data.drop([\" Education\"], axis=1)\n",
    "\n",
    "data[\"Free to Play\"]=data[\"Free to Play\"]+data[\" Free to Play\"]\n",
    "data = data.drop([\" Free to Play\"], axis=1)\n",
    "\n",
    "data[\"Indie\"]=data[\"Indie\"]+data[\" Indie\"]\n",
    "data = data.drop([\" Indie\"], axis=1)\n",
    "\n",
    "data[\"Massively Multiplayer\"]=data[\"Massively Multiplayer\"]+data[\" Massively Multiplayer\"]\n",
    "data = data.drop([\" Massively Multiplayer\"], axis=1)\n",
    "\n",
    "data[\"Photo Editing\"]=data[\"Photo Editing\"]+data[\" Photo Editing\"]\n",
    "data = data.drop([\" Photo Editing\"], axis=1)\n",
    "\n",
    "data[\"RPG\"]=data[\"RPG\"]+data[\" RPG\"]\n",
    "data = data.drop([\" RPG\"], axis=1)\n",
    "\n",
    "data[\"Racing\"]=data[\"Racing\"]+data[\" Racing\"]\n",
    "data = data.drop([\" Racing\"], axis=1)\n",
    "\n",
    "data[\"Simulation\"]=data[\"Simulation\"]+data[\" Simulation\"]\n",
    "data = data.drop([\" Simulation\"], axis=1)\n",
    "\n",
    "data[\"Software Training\"]=data[\"Software Training\"]+data[\" Software Training\"]\n",
    "data = data.drop([\" Software Training\"], axis=1)\n",
    "\n",
    "data[\"Sports\"]=data[\"Sports\"]+data[\" Sports\"]\n",
    "data = data.drop([\" Sports\"], axis=1)\n",
    "\n",
    "data[\"Strategy\"]=data[\"Strategy\"]+data[\" Strategy\"]\n",
    "data = data.drop([\" Strategy\"], axis=1)\n",
    "\n",
    "data[\"Utilities\"]=data[\"Utilities\"]+data[\" Utilities\"]\n",
    "data = data.drop([\" Utilities\"], axis=1)\n",
    "\n",
    "data[\"Video Production\"]=data[\"Video Production\"]+data[\" Video Production\"]\n",
    "data = data.drop([\" Video Production\"], axis=1)\n",
    "\n",
    "data[\"Web Publishing\"]=data[\"Web Publishing\"]+data[\" Web Publishing\"]\n",
    "data = data.drop([\" Web Publishing\"], axis=1)"
   ]
  },
  {
   "cell_type": "code",
   "execution_count": 23,
   "metadata": {},
   "outputs": [],
   "source": [
    "sumas = data.drop([\"username\", \"app_name\", \"hours\", \"price\", \"publisher\", \"developer\"], axis=1).sum(axis=0)\n",
    "sumas = pd.DataFrame(sumas, columns = [\"Total\"])\n",
    "sumas.index.name = \"Generos\"\n",
    "sumas['Generos'] = sumas.index\n",
    "sumas = sumas.sort_values(by=['Total'], ascending=False)"
   ]
  },
  {
   "cell_type": "code",
   "execution_count": 24,
   "metadata": {},
   "outputs": [],
   "source": [
    "def show_values_on_bars(axs):\n",
    "    def _show_on_single_plot(ax):        \n",
    "        for p in ax.patches:\n",
    "            _x = p.get_x() + p.get_width() / 2\n",
    "            _y = p.get_y() + p.get_height()\n",
    "            value = '{:.2f}'.format(p.get_height())\n",
    "            ax.text(_x, _y, value, ha=\"center\") \n",
    "\n",
    "    if isinstance(axs, np.ndarray):\n",
    "        for idx, ax in np.ndenumerate(axs):\n",
    "            _show_on_single_plot(ax)\n",
    "    else:\n",
    "        _show_on_single_plot(axs)"
   ]
  },
  {
   "cell_type": "code",
   "execution_count": 25,
   "metadata": {},
   "outputs": [
    {
     "data": {
      "image/png": "[encoded data removed]",
      "text/plain": [
       "<Figure size 864x576 with 1 Axes>"
      ]
     },
     "metadata": {
      "needs_background": "light"
     },
     "output_type": "display_data"
    }
   ],
   "source": [
    "plt.figure(figsize=(12,8))\n",
    "grafico = sns.barplot(x = \"Generos\", y = \"Total\", data = sumas[:10])\n",
    "plt.title(\"Cantidad de reseñas por género\", fontsize=18)\n",
    "plt.xticks(rotation=45)\n",
    "plt.xlabel(\"\")\n",
    "plt.ylabel(\"\")\n",
    "\n",
    "show_values_on_bars(grafico)\n",
    "\n",
    "plt.show()"
   ]
  },
  {
   "cell_type": "markdown",
   "metadata": {},
   "source": [
    "Los **juegos de acción son los más populares** seguidos por aquellos clasificados como indie, aventura y Rol.\n",
    "\n",
    "La cantidad de horas jugadas tiene la siguiente distribución (cabe destacar que se excluyeron valores atípicos para visualizar mejor la distribución):"
   ]
  },
  {
   "cell_type": "code",
   "execution_count": 21,
   "metadata": {},
   "outputs": [
    {
     "data": {
      "text/plain": [
       "<Figure size 864x576 with 0 Axes>"
      ]
     },
     "metadata": {},
     "output_type": "display_data"
    },
    {
     "data": {
      "image/png": "[encoded data removed]",
      "text/plain": [
       "<Figure size 360x360 with 1 Axes>"
      ]
     },
     "metadata": {
      "needs_background": "light"
     },
     "output_type": "display_data"
    }
   ],
   "source": [
    "plt.figure(figsize=(12,8))\n",
    "grafico = sns.displot(x = data.hours[data.hours<125], kde=True)\n",
    "plt.title(\"Distribución de horas jugadas\", fontsize=18)\n",
    "plt.xlabel(\"\")\n",
    "plt.ylabel(\"\")\n",
    "\n",
    "plt.show()"
   ]
  },
  {
   "cell_type": "markdown",
   "metadata": {},
   "source": [
    "La variable precio se distribuye de la siguiente manera:"
   ]
  },
  {
   "cell_type": "code",
   "execution_count": 22,
   "metadata": {},
   "outputs": [
    {
     "data": {
      "text/plain": [
       "<Figure size 864x576 with 0 Axes>"
      ]
     },
     "metadata": {},
     "output_type": "display_data"
    },
    {
     "data": {
      "image/png": "[encoded data removed]",
      "text/plain": [
       "<Figure size 360x360 with 1 Axes>"
      ]
     },
     "metadata": {
      "needs_background": "light"
     },
     "output_type": "display_data"
    }
   ],
   "source": [
    "plt.figure(figsize=(12,8))\n",
    "grafico = sns.displot(x = data.price[data.price<100], kde=True)\n",
    "plt.title(\"Distribución por precio\", fontsize=18)\n",
    "plt.xlabel(\"\")\n",
    "plt.ylabel(\"\")\n",
    "\n",
    "plt.show()"
   ]
  },
  {
   "cell_type": "markdown",
   "metadata": {},
   "source": [
    "# 2. Modelo de recomendación"
   ]
  },
  {
   "cell_type": "markdown",
   "metadata": {},
   "source": [
    "Se va a trabajar con un **sistema de recomendación colaborativo**, es decir que se trata de un sistema que va a recomendar a usuarios juegos de acuerdo a los gustos de otras personas similares. En este caso **si bien no contamos con una puntuación otorgada si contamos con la variable de horas jugadas que funciona como buen proxy**.\n",
    "\n",
    "La principal ventaja que tienen este tipo de sistemas es que **no necesitan conocer nada de los items** (en este caso juegos) dado que las recomendaciones son realizadas en base a la similitud entre los usuarios. Las contras de este enfoque son:\n",
    "1. Encuentra dificultades a la hora de recomendar nuevos items o items que no hayan sido probados por muchos usuarios.\n",
    "2. Problemas generados cuando la base de datos es muy extensa y se genera una escasez de datos.\n",
    "\n",
    "Para limitar el segundo problema se van a eliminar los juegos que hayan sido jugados por menos de 1.000 usuarios:\n"
   ]
  },
  {
   "cell_type": "code",
   "execution_count": 36,
   "metadata": {},
   "outputs": [
    {
     "data": {
      "text/plain": [
       "(304928, 7)"
      ]
     },
     "execution_count": 36,
     "metadata": {},
     "output_type": "execute_result"
    }
   ],
   "source": [
    "data_nueva = data[data.groupby(\"app_name\")[\"app_name\"].transform('size') > 999]\n",
    "data_nueva.shape"
   ]
  },
  {
   "cell_type": "code",
   "execution_count": 37,
   "metadata": {},
   "outputs": [
    {
     "name": "stdout",
     "output_type": "stream",
     "text": [
      "La cantidad de juegos del dataset original es: 12070\n",
      "La cantidad de juegos del dataset nuevo es: 138\n"
     ]
    }
   ],
   "source": [
    "print(\"La cantidad de juegos del dataset original es: \" + str(data[\"app_name\"].nunique()))\n",
    "print(\"La cantidad de juegos del dataset nuevo es: \" + str(data_nueva[\"app_name\"].nunique()))"
   ]
  },
  {
   "cell_type": "markdown",
   "metadata": {},
   "source": [
    "Es decir que **se pasa de un dataset con 760.492 reseñas a uno con 304.928 y la cantidad de juegos se reduce a 138**.\n",
    "\n",
    "Para estimar los modelos se va a utilizar la librería surprise para la cual es necesario utilizar el método Reader para importar los datos. El mismo requiere que se le asigne el valor mínimo y máximo del rating, en este caso de horas que funciona como proxy de rating:"
   ]
  },
  {
   "cell_type": "code",
   "execution_count": 38,
   "metadata": {},
   "outputs": [
    {
     "name": "stderr",
     "output_type": "stream",
     "text": [
      "<ipython-input-38-0f4b7e8b7e53>:1: SettingWithCopyWarning: \n",
      "A value is trying to be set on a copy of a slice from a DataFrame.\n",
      "Try using .loc[row_indexer,col_indexer] = value instead\n",
      "\n",
      "See the caveats in the documentation: https://pandas.pydata.org/pandas-docs/stable/user_guide/indexing.html#returning-a-view-versus-a-copy\n",
      "  data_nueva[[\"hours\"]] = StandardScaler().fit_transform(data_nueva[[\"hours\"]])\n",
      "C:\\Users\\Javier Giordano\\miniconda3\\envs\\datascience\\lib\\site-packages\\pandas\\core\\indexing.py:966: SettingWithCopyWarning: \n",
      "A value is trying to be set on a copy of a slice from a DataFrame.\n",
      "Try using .loc[row_indexer,col_indexer] = value instead\n",
      "\n",
      "See the caveats in the documentation: https://pandas.pydata.org/pandas-docs/stable/user_guide/indexing.html#returning-a-view-versus-a-copy\n",
      "  self.obj[item] = s\n"
     ]
    }
   ],
   "source": [
    "data_nueva[[\"hours\"]] = StandardScaler().fit_transform(data_nueva[[\"hours\"]])"
   ]
  },
  {
   "cell_type": "code",
   "execution_count": 39,
   "metadata": {},
   "outputs": [
    {
     "name": "stdout",
     "output_type": "stream",
     "text": [
      "El valor mínimo es -0.39455067221620166, mientras que el valor máximo es 38.679348178822\n"
     ]
    }
   ],
   "source": [
    "minimo = data_nueva[\"hours\"].min()\n",
    "maximo = data_nueva[\"hours\"].max()\n",
    "print(\"El valor mínimo es {0}, mientras que el valor máximo es {1}\" .format(minimo, maximo))"
   ]
  },
  {
   "cell_type": "code",
   "execution_count": 40,
   "metadata": {},
   "outputs": [],
   "source": [
    "reader = Reader(rating_scale = (minimo, maximo))\n",
    "datas = Dataset.load_from_df(data_nueva[['username', 'app_name', 'hours']], reader)"
   ]
  },
  {
   "cell_type": "markdown",
   "metadata": {},
   "source": [
    "Para determinar con que modelo continuar se procede a hacer una validacion cruzada utilizando distintos algoritmos siendo la **raíz del error cuadratico medio (RMSE) la medida utilizada para determinar con que modelo seguir**."
   ]
  },
  {
   "cell_type": "code",
   "execution_count": 41,
   "metadata": {},
   "outputs": [
    {
     "name": "stdout",
     "output_type": "stream",
     "text": [
      "Estimating biases using als...\n",
      "Estimating biases using als...\n",
      "Estimating biases using als...\n"
     ]
    },
    {
     "data": {
      "text/html": [
       "<div>\n",
       "<style scoped>\n",
       "    .dataframe tbody tr th:only-of-type {\n",
       "        vertical-align: middle;\n",
       "    }\n",
       "\n",
       "    .dataframe tbody tr th {\n",
       "        vertical-align: top;\n",
       "    }\n",
       "\n",
       "    .dataframe thead th {\n",
       "        text-align: right;\n",
       "    }\n",
       "</style>\n",
       "<table border=\"1\" class=\"dataframe\">\n",
       "  <thead>\n",
       "    <tr style=\"text-align: right;\">\n",
       "      <th></th>\n",
       "      <th>test_rmse</th>\n",
       "      <th>fit_time</th>\n",
       "      <th>test_time</th>\n",
       "    </tr>\n",
       "    <tr>\n",
       "      <th>Algorithm</th>\n",
       "      <th></th>\n",
       "      <th></th>\n",
       "      <th></th>\n",
       "    </tr>\n",
       "  </thead>\n",
       "  <tbody>\n",
       "    <tr>\n",
       "      <th>SVD</th>\n",
       "      <td>0.905786</td>\n",
       "      <td>20.775499</td>\n",
       "      <td>1.111849</td>\n",
       "    </tr>\n",
       "    <tr>\n",
       "      <th>BaselineOnly</th>\n",
       "      <td>0.911609</td>\n",
       "      <td>1.254734</td>\n",
       "      <td>1.192926</td>\n",
       "    </tr>\n",
       "    <tr>\n",
       "      <th>NormalPredictor</th>\n",
       "      <td>1.250474</td>\n",
       "      <td>0.538148</td>\n",
       "      <td>1.350828</td>\n",
       "    </tr>\n",
       "    <tr>\n",
       "      <th>CoClustering</th>\n",
       "      <td>1.421648</td>\n",
       "      <td>37.680518</td>\n",
       "      <td>0.884786</td>\n",
       "    </tr>\n",
       "    <tr>\n",
       "      <th>SVDpp</th>\n",
       "      <td>13.522501</td>\n",
       "      <td>41.711780</td>\n",
       "      <td>1.642059</td>\n",
       "    </tr>\n",
       "  </tbody>\n",
       "</table>\n",
       "</div>"
      ],
      "text/plain": [
       "                 test_rmse   fit_time  test_time\n",
       "Algorithm                                       \n",
       "SVD               0.905786  20.775499   1.111849\n",
       "BaselineOnly      0.911609   1.254734   1.192926\n",
       "NormalPredictor   1.250474   0.538148   1.350828\n",
       "CoClustering      1.421648  37.680518   0.884786\n",
       "SVDpp            13.522501  41.711780   1.642059"
      ]
     },
     "execution_count": 41,
     "metadata": {},
     "output_type": "execute_result"
    }
   ],
   "source": [
    "benchmark = []\n",
    "for algorithm in [NormalPredictor(), BaselineOnly(), SVD(), SVDpp(), CoClustering()]:\n",
    "    results = cross_validate(algorithm, datas, measures=['RMSE'], cv=3, verbose=False)\n",
    "    tmp = pd.DataFrame.from_dict(results).mean(axis=0)\n",
    "    tmp = tmp.append(pd.Series([str(algorithm).split(' ')[0].split('.')[-1]], index=['Algorithm']))\n",
    "    benchmark.append(tmp)\n",
    "    \n",
    "pd.DataFrame(benchmark).set_index('Algorithm').sort_values('test_rmse')    "
   ]
  },
  {
   "cell_type": "markdown",
   "metadata": {},
   "source": [
    "De acuerdo a lo obtenido **el modelo SVD es el que arroja el menor RMSE y por ende el seleccionado para optimizar el número de factores**.\n",
    "\n"
   ]
  },
  {
   "cell_type": "code",
   "execution_count": 42,
   "metadata": {},
   "outputs": [
    {
     "name": "stdout",
     "output_type": "stream",
     "text": [
      "1\n",
      "Evaluating RMSE of algorithm SVD on 3 split(s).\n",
      "\n",
      "                  Fold 1  Fold 2  Fold 3  Mean    Std     \n",
      "RMSE (testset)    0.9220  0.9012  0.9102  0.9111  0.0086  \n",
      "Fit time          4.29    4.26    4.30    4.28    0.01    \n",
      "Test time         0.94    1.11    0.83    0.96    0.12    \n",
      "2\n",
      "Evaluating RMSE of algorithm SVD on 3 split(s).\n",
      "\n",
      "                  Fold 1  Fold 2  Fold 3  Mean    Std     \n",
      "RMSE (testset)    0.9182  0.8982  0.9093  0.9086  0.0082  \n",
      "Fit time          4.46    4.39    4.40    4.42    0.03    \n",
      "Test time         0.85    1.09    1.09    1.01    0.12    \n",
      "3\n",
      "Evaluating RMSE of algorithm SVD on 3 split(s).\n",
      "\n",
      "                  Fold 1  Fold 2  Fold 3  Mean    Std     \n",
      "RMSE (testset)    0.8903  0.9285  0.9150  0.9113  0.0158  \n",
      "Fit time          5.44    5.08    4.86    5.13    0.24    \n",
      "Test time         0.96    1.32    0.99    1.09    0.16    \n",
      "4\n",
      "Evaluating RMSE of algorithm SVD on 3 split(s).\n",
      "\n",
      "                  Fold 1  Fold 2  Fold 3  Mean    Std     \n",
      "RMSE (testset)    0.8878  0.9416  0.8978  0.9091  0.0234  \n",
      "Fit time          4.97    4.95    5.22    5.04    0.12    \n",
      "Test time         1.24    1.31    1.06    1.20    0.11    \n",
      "5\n",
      "Evaluating RMSE of algorithm SVD on 3 split(s).\n",
      "\n",
      "                  Fold 1  Fold 2  Fold 3  Mean    Std     \n",
      "RMSE (testset)    0.9256  0.9225  0.8780  0.9087  0.0218  \n",
      "Fit time          6.05    5.09    5.89    5.68    0.42    \n",
      "Test time         1.23    1.07    0.92    1.07    0.13    \n",
      "6\n",
      "Evaluating RMSE of algorithm SVD on 3 split(s).\n",
      "\n",
      "                  Fold 1  Fold 2  Fold 3  Mean    Std     \n",
      "RMSE (testset)    0.9038  0.9102  0.9110  0.9083  0.0032  \n",
      "Fit time          5.13    5.04    5.25    5.14    0.09    \n",
      "Test time         0.88    0.98    1.17    1.01    0.12    \n",
      "7\n",
      "Evaluating RMSE of algorithm SVD on 3 split(s).\n",
      "\n",
      "                  Fold 1  Fold 2  Fold 3  Mean    Std     \n",
      "RMSE (testset)    0.9055  0.9030  0.9178  0.9088  0.0065  \n",
      "Fit time          5.43    6.21    5.12    5.59    0.46    \n",
      "Test time         0.97    1.37    1.11    1.15    0.16    \n",
      "8\n",
      "Evaluating RMSE of algorithm SVD on 3 split(s).\n",
      "\n",
      "                  Fold 1  Fold 2  Fold 3  Mean    Std     \n",
      "RMSE (testset)    0.8855  0.9216  0.9163  0.9078  0.0159  \n",
      "Fit time          6.43    5.48    6.77    6.22    0.55    \n",
      "Test time         1.06    1.26    0.96    1.10    0.12    \n",
      "9\n",
      "Evaluating RMSE of algorithm SVD on 3 split(s).\n",
      "\n",
      "                  Fold 1  Fold 2  Fold 3  Mean    Std     \n",
      "RMSE (testset)    0.9106  0.9170  0.8946  0.9074  0.0094  \n",
      "Fit time          5.74    5.64    6.34    5.91    0.31    \n",
      "Test time         0.91    1.27    0.93    1.04    0.17    \n",
      "10\n",
      "Evaluating RMSE of algorithm SVD on 3 split(s).\n",
      "\n",
      "                  Fold 1  Fold 2  Fold 3  Mean    Std     \n",
      "RMSE (testset)    0.9190  0.9004  0.8990  0.9061  0.0091  \n",
      "Fit time          6.04    6.75    6.57    6.45    0.30    \n",
      "Test time         1.31    1.08    0.94    1.11    0.15    \n",
      "15\n",
      "Evaluating RMSE of algorithm SVD on 3 split(s).\n",
      "\n",
      "                  Fold 1  Fold 2  Fold 3  Mean    Std     \n",
      "RMSE (testset)    0.9127  0.8887  0.9167  0.9060  0.0124  \n",
      "Fit time          6.54    6.33    6.35    6.41    0.09    \n",
      "Test time         1.33    1.15    0.88    1.12    0.19    \n",
      "20\n",
      "Evaluating RMSE of algorithm SVD on 3 split(s).\n",
      "\n",
      "                  Fold 1  Fold 2  Fold 3  Mean    Std     \n",
      "RMSE (testset)    0.9044  0.9254  0.8864  0.9054  0.0159  \n",
      "Fit time          7.69    7.69    7.06    7.48    0.29    \n",
      "Test time         1.30    1.22    0.94    1.15    0.16    \n",
      "50\n",
      "Evaluating RMSE of algorithm SVD on 3 split(s).\n",
      "\n",
      "                  Fold 1  Fold 2  Fold 3  Mean    Std     \n",
      "RMSE (testset)    0.9476  0.8796  0.8922  0.9064  0.0296  \n",
      "Fit time          11.53   12.68   10.76   11.66   0.79    \n",
      "Test time         1.25    1.03    0.85    1.04    0.16    \n"
     ]
    }
   ],
   "source": [
    "rmse_test_means = []\n",
    "factores = [1,2,3,4,5,6,7,8,9,10,15,20,50]\n",
    "\n",
    "for factor in factores:\n",
    "    print(factor)\n",
    "    algo = SVD(n_factors=factor)\n",
    "    cv = cross_validate(algo, datas, measures=['RMSE'], cv = 3, verbose=True)\n",
    "    rmse_test_means.append(np.mean(cv['test_rmse']))"
   ]
  },
  {
   "cell_type": "code",
   "execution_count": 43,
   "metadata": {},
   "outputs": [
    {
     "data": {
      "image/png": "[encoded data removed]",
      "text/plain": [
       "<Figure size 864x576 with 1 Axes>"
      ]
     },
     "metadata": {
      "needs_background": "light"
     },
     "output_type": "display_data"
    }
   ],
   "source": [
    "plt.figure(figsize=(12,8))\n",
    "plt.plot(factores, rmse_test_means, 'o-', color=\"r\", label=\"Training score\")\n",
    "plt.xlabel('Numero de factores')\n",
    "plt.ylabel('Error RMSE')\n",
    "plt.show()"
   ]
  },
  {
   "cell_type": "markdown",
   "metadata": {},
   "source": [
    "**El número óptimo de factores es 20 dado que es el que minimiza el RMSE**. \n",
    "\n",
    "A continuación se va a mostrar el algoritmo predictivo en acción:"
   ]
  },
  {
   "cell_type": "code",
   "execution_count": 68,
   "metadata": {},
   "outputs": [
    {
     "data": {
      "text/plain": [
       "<surprise.prediction_algorithms.matrix_factorization.SVD at 0x1fc15a11f10>"
      ]
     },
     "execution_count": 68,
     "metadata": {},
     "output_type": "execute_result"
    }
   ],
   "source": [
    "trainset, testset = train_test_split(datas, test_size=.25)\n",
    "\n",
    "SVD = SVD(n_factors=20)\n",
    "\n",
    "SVD.fit(trainset)"
   ]
  },
  {
   "cell_type": "code",
   "execution_count": 69,
   "metadata": {},
   "outputs": [],
   "source": [
    "predictions = SVD.test(testset)"
   ]
  },
  {
   "cell_type": "markdown",
   "metadata": {},
   "source": [
    "En el ejemplo se le recomendaran juegos al usuario Tom. Para ello se comienza haciendo un listado de los juegos que ya jugó para no recomendarle los mismos:"
   ]
  },
  {
   "cell_type": "code",
   "execution_count": 70,
   "metadata": {},
   "outputs": [],
   "source": [
    "lista_juegos = data_nueva['app_name'].unique()\n",
    "lista_juegos_jugados_Tom = data_nueva.loc[data_nueva[\"username\"] == \"Tom\",\"app_name\"]\n",
    "lista_juegos_predecir_Tom = np.setdiff1d(lista_juegos,lista_juegos_jugados_Tom)"
   ]
  },
  {
   "cell_type": "markdown",
   "metadata": {},
   "source": [
    "Se generan las predicciones:"
   ]
  },
  {
   "cell_type": "code",
   "execution_count": 72,
   "metadata": {},
   "outputs": [],
   "source": [
    "recomendaciones_Tom = []\n",
    "for app_name in lista_juegos_predecir_Tom:\n",
    "    recomendaciones_Tom.append((app_name, SVD.predict(uid=\"Tom\", iid=app_name).est))"
   ]
  },
  {
   "cell_type": "code",
   "execution_count": 75,
   "metadata": {},
   "outputs": [
    {
     "data": {
      "text/html": [
       "<div>\n",
       "<style scoped>\n",
       "    .dataframe tbody tr th:only-of-type {\n",
       "        vertical-align: middle;\n",
       "    }\n",
       "\n",
       "    .dataframe tbody tr th {\n",
       "        vertical-align: top;\n",
       "    }\n",
       "\n",
       "    .dataframe thead th {\n",
       "        text-align: right;\n",
       "    }\n",
       "</style>\n",
       "<table border=\"1\" class=\"dataframe\">\n",
       "  <thead>\n",
       "    <tr style=\"text-align: right;\">\n",
       "      <th></th>\n",
       "      <th>Juegos</th>\n",
       "      <th>Predicciones</th>\n",
       "    </tr>\n",
       "  </thead>\n",
       "  <tbody>\n",
       "    <tr>\n",
       "      <th>7</th>\n",
       "      <td>Arma 3</td>\n",
       "      <td>1.100255</td>\n",
       "    </tr>\n",
       "    <tr>\n",
       "      <th>0</th>\n",
       "      <td>APB Reloaded</td>\n",
       "      <td>0.802342</td>\n",
       "    </tr>\n",
       "    <tr>\n",
       "      <th>53</th>\n",
       "      <td>Mount &amp; Blade: Warband</td>\n",
       "      <td>0.514515</td>\n",
       "    </tr>\n",
       "    <tr>\n",
       "      <th>1</th>\n",
       "      <td>ARK: Survival Evolved</td>\n",
       "      <td>0.456268</td>\n",
       "    </tr>\n",
       "    <tr>\n",
       "      <th>62</th>\n",
       "      <td>Realm of the Mad God</td>\n",
       "      <td>0.255521</td>\n",
       "    </tr>\n",
       "    <tr>\n",
       "      <th>51</th>\n",
       "      <td>Magic Duels</td>\n",
       "      <td>0.204426</td>\n",
       "    </tr>\n",
       "    <tr>\n",
       "      <th>88</th>\n",
       "      <td>Total War™: ROME II - Emperor Edition</td>\n",
       "      <td>0.174184</td>\n",
       "    </tr>\n",
       "    <tr>\n",
       "      <th>40</th>\n",
       "      <td>Grim Dawn</td>\n",
       "      <td>0.162974</td>\n",
       "    </tr>\n",
       "    <tr>\n",
       "      <th>41</th>\n",
       "      <td>H1Z1</td>\n",
       "      <td>0.141621</td>\n",
       "    </tr>\n",
       "    <tr>\n",
       "      <th>60</th>\n",
       "      <td>PlanetSide 2</td>\n",
       "      <td>0.087267</td>\n",
       "    </tr>\n",
       "  </tbody>\n",
       "</table>\n",
       "</div>"
      ],
      "text/plain": [
       "                                   Juegos  Predicciones\n",
       "7                                  Arma 3      1.100255\n",
       "0                            APB Reloaded      0.802342\n",
       "53                 Mount & Blade: Warband      0.514515\n",
       "1                   ARK: Survival Evolved      0.456268\n",
       "62                   Realm of the Mad God      0.255521\n",
       "51                            Magic Duels      0.204426\n",
       "88  Total War™: ROME II - Emperor Edition      0.174184\n",
       "40                              Grim Dawn      0.162974\n",
       "41                                   H1Z1      0.141621\n",
       "60                           PlanetSide 2      0.087267"
      ]
     },
     "execution_count": 75,
     "metadata": {},
     "output_type": "execute_result"
    }
   ],
   "source": [
    "pd.DataFrame(recomendaciones_Tom, columns=['Juegos', 'Predicciones']).sort_values('Predicciones', ascending=False).head(10)"
   ]
  },
  {
   "cell_type": "markdown",
   "metadata": {},
   "source": [
    "Los tres juegos que el sistema recomienda a Tom son Arma 3, APB Reloaded y Mount & Blade."
   ]
  },
  {
   "cell_type": "markdown",
   "metadata": {},
   "source": [
    "# 3. Conclusiones"
   ]
  },
  {
   "cell_type": "markdown",
   "metadata": {},
   "source": [
    "1. El mejor modelo de acuerdo a al criterio de RMSE fue el de SVD.\n",
    "2. El número óptimo de factores fue de 20.\n",
    "\n",
    "Limitaciones (u oportunidades de mejora):\n",
    "1. No se pudo realizar uno optimización de hiperparámetros mediante Grid Search y/o Random Search dado que la misma resultó demasiado demandante en términos de poder de computo.\n",
    "2. El problema de poder de computo también llevó a que fuese necesario reducir el dataset para que el cálculo no se volviera imposible.\n",
    "3. El sistema de recomendación es puramente colaborativo con lo cual existe la posibilidad de incorporar conceptos de sistemas de recomendación por contenido."
   ]
  }
 ],
 "metadata": {
  "kernelspec": {
   "display_name": "Python 3",
   "language": "python",
   "name": "python3"
  },
  "language_info": {
   "codemirror_mode": {
    "name": "ipython",
    "version": 3
   },
   "file_extension": ".py",
   "mimetype": "text/x-python",
   "name": "python",
   "nbconvert_exporter": "python",
   "pygments_lexer": "ipython3",
   "version": "3.8.3"
  }
 },
 "nbformat": 4,
 "nbformat_minor": 4
}
